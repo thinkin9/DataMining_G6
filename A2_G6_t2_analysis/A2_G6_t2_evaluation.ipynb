{
  "nbformat": 4,
  "nbformat_minor": 0,
  "metadata": {
    "colab": {
      "provenance": []
    },
    "kernelspec": {
      "name": "python3",
      "display_name": "Python 3"
    },
    "language_info": {
      "name": "python"
    }
  },
  "cells": [
    {
      "cell_type": "markdown",
      "source": [
        "<h3> NOTICE: THIS FILE IS FOR RUNNING ON GOOGLE COLAB\n",
        "\n",
        "Please visit the following [URL](https://colab.research.google.com/drive/1CJr4tTtaOZQpD-GCCoDk9bzwaOoHyvml#scrollTo=ApCa-mP1j2kN)"
      ],
      "metadata": {
        "id": "ApCa-mP1j2kN"
      }
    },
    {
      "cell_type": "code",
      "execution_count": 12,
      "metadata": {
        "id": "7sEvvS_VfOP3"
      },
      "outputs": [],
      "source": [
        "import numpy as np\n",
        "from sklearn.metrics import adjusted_rand_score, adjusted_mutual_info_score"
      ]
    },
    {
      "cell_type": "markdown",
      "source": [
        "<h3> Set File names"
      ],
      "metadata": {
        "id": "X-Oua2RHhAl_"
      }
    },
    {
      "cell_type": "code",
      "source": [
        "# groundTruthFileName = \"/path/to/groundTruthFileName\"\n",
        "# predictedFileName = \"/path/to/predictedFileName\"\n",
        "\n",
        "groundTruthFileName = \"/content/e5m5groundTruth.txt\"\n",
        "predictedFileName = \"/content/e5m5Predicted.txt\""
      ],
      "metadata": {
        "id": "sZM5kED_gUNs"
      },
      "execution_count": 13,
      "outputs": []
    },
    {
      "cell_type": "markdown",
      "source": [
        "<h3> Load the Data"
      ],
      "metadata": {
        "id": "LlN00exRhGu-"
      }
    },
    {
      "cell_type": "code",
      "source": [
        "# Load ground truth labels\n",
        "with open(groundTruthFileName, 'r') as f:\n",
        "    ground_truth = np.array([int(line.strip()) for line in f])\n",
        "\n",
        "# Load predicted labels\n",
        "with open(predictedFileName, 'r') as f:\n",
        "    predicted = np.array([int(line.strip()) for line in f])"
      ],
      "metadata": {
        "id": "A4HZybgUgVwH"
      },
      "execution_count": 14,
      "outputs": []
    },
    {
      "cell_type": "markdown",
      "source": [
        "<h3>Compute Adjusted Rand Index (ARI) and Adjusted Mutual Information (AMI)"
      ],
      "metadata": {
        "id": "fOZmvhSAhVF1"
      }
    },
    {
      "cell_type": "code",
      "source": [
        "# Compute Adjusted Rand Index (ARI)\n",
        "ari_score = adjusted_rand_score(ground_truth, predicted)\n",
        "print(f\"Adjusted Rand Index (ARI):\\t\\t {ari_score}\")\n",
        "\n",
        "# Compute Adjusted Mutual Information (AMI)\n",
        "ami_score = adjusted_mutual_info_score(ground_truth, predicted)\n",
        "print(f\"Adjusted Mutual Information (AMI):\\t {ami_score}\")"
      ],
      "metadata": {
        "colab": {
          "base_uri": "https://localhost:8080/"
        },
        "id": "OJIgFeX1hXxY",
        "outputId": "f8138e8b-6ae3-44ab-c9ba-abdc0cd7a144"
      },
      "execution_count": 15,
      "outputs": [
        {
          "output_type": "stream",
          "name": "stdout",
          "text": [
            "Adjusted Rand Index (ARI):\t\t 0.2236045373135636\n",
            "Adjusted Mutual Information (AMI):\t 0.6929909787353598\n"
          ]
        }
      ]
    },
    {
      "cell_type": "code",
      "source": [],
      "metadata": {
        "id": "IxXRkJtwhfz6"
      },
      "execution_count": 15,
      "outputs": []
    }
  ]
}