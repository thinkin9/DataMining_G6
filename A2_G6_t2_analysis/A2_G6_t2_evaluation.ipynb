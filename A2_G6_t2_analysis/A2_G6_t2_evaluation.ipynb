{
  "nbformat": 4,
  "nbformat_minor": 0,
  "metadata": {
    "colab": {
      "provenance": []
    },
    "kernelspec": {
      "name": "python3",
      "display_name": "Python 3"
    },
    "language_info": {
      "name": "python"
    }
  },
  "cells": [
    {
      "cell_type": "code",
      "execution_count": 2,
      "metadata": {
        "id": "7sEvvS_VfOP3"
      },
      "outputs": [],
      "source": [
        "import numpy as np\n",
        "from sklearn.metrics import adjusted_rand_score, adjusted_mutual_info_score"
      ]
    },
    {
      "cell_type": "markdown",
      "source": [
        "<h2> Set File names"
      ],
      "metadata": {
        "id": "X-Oua2RHhAl_"
      }
    },
    {
      "cell_type": "code",
      "source": [
        "# groundTruthFileName = \"/path/to/groundTruthFileName\"\n",
        "# predictedFileName = \"/path/to/predictedFileName\"\n",
        "\n",
        "groundTruthFileName = \"/content/e5m5groundTruth.txt\"\n",
        "predictedFileName = \"/content/e5m5Predicted.txt\""
      ],
      "metadata": {
        "id": "sZM5kED_gUNs"
      },
      "execution_count": 3,
      "outputs": []
    },
    {
      "cell_type": "markdown",
      "source": [
        "<h2> Load the Data"
      ],
      "metadata": {
        "id": "LlN00exRhGu-"
      }
    },
    {
      "cell_type": "code",
      "source": [
        "# Load ground truth labels\n",
        "with open(groundTruthFileName, 'r') as f:\n",
        "    ground_truth = np.array([int(line.strip()) for line in f])\n",
        "\n",
        "# Load predicted labels\n",
        "with open(predictedFileName, 'r') as f:\n",
        "    predicted = np.array([int(line.strip()) for line in f])"
      ],
      "metadata": {
        "id": "A4HZybgUgVwH"
      },
      "execution_count": 4,
      "outputs": []
    },
    {
      "cell_type": "markdown",
      "source": [
        "<h2>Compute Adjusted Rand Index (ARI) and Adjusted Mutual Information (AMI)"
      ],
      "metadata": {
        "id": "fOZmvhSAhVF1"
      }
    },
    {
      "cell_type": "code",
      "source": [
        "ari_score = adjusted_rand_score(ground_truth, predicted)\n",
        "print(f\"Adjusted Rand Index: {ari_score}\")\n",
        "\n",
        "# Compute Adjusted Mutual Information\n",
        "ami_score = adjusted_mutual_info_score(ground_truth, predicted)\n",
        "print(f\"Adjusted Mutual Information: {ami_score}\")"
      ],
      "metadata": {
        "colab": {
          "base_uri": "https://localhost:8080/"
        },
        "id": "OJIgFeX1hXxY",
        "outputId": "1d5e5d58-cbf7-4ebe-e06d-888e33219a6c"
      },
      "execution_count": 5,
      "outputs": [
        {
          "output_type": "stream",
          "name": "stdout",
          "text": [
            "Adjusted Rand Index: 0.2236045373135636\n",
            "Adjusted Mutual Information: 0.6929909787353598\n"
          ]
        }
      ]
    },
    {
      "cell_type": "code",
      "source": [],
      "metadata": {
        "id": "IxXRkJtwhfz6"
      },
      "execution_count": null,
      "outputs": []
    }
  ]
}