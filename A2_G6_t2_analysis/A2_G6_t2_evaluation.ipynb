# 필요한 라이브러리 설치
#!pip install numpy scikit-learn

# 라이브러리 임포트
import numpy as np
from sklearn.metrics import adjusted_rand_score, adjusted_mutual_info_score

# 파일 경로 설정 (업로드한 파일 경로로 수정)
groundTruthFileName = "/content/e5m5groundTruth.txt"
predictedFileName = "/content/e5m5Predicted.txt"

# 데이터 로드
# ground truth labels 로드
with open(groundTruthFileName, 'r') as f:
    ground_truth = np.array([int(line.strip()) for line in f])

# predicted labels 로드
with open(predictedFileName, 'r') as f:
    predicted = np.array([int(line.strip()) for line in f])

# ARI 및 AMI 계산
ari_score = adjusted_rand_score(ground_truth, predicted)
print(f"Adjusted Rand Index (ARI):\t\t {ari_score}")

ami_score = adjusted_mutual_info_score(ground_truth, predicted)
print(f"Adjusted Mutual Information (AMI):\t {ami_score}")
