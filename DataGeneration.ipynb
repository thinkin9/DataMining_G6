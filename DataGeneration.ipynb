{
  "cells": [
    {
      "cell_type": "markdown",
      "metadata": {
        "id": "sXh9p4YXmqmL"
      },
      "source": [
        "<h1>Data Generation\n",
        "<h3> NOTICE: THIS FILE IS FOR RUNNING ON GOOGLE COLAB\n",
        "\n",
        "Please visit the following [URL](https://colab.research.google.com/drive/1ABFpwcKoz-vs-71GseQiHNzJPaRNDR_U#scrollTo=mJaVGmZuPDWR) to generate dataset."
      ]
    },
    {
      "cell_type": "code",
      "execution_count": null,
      "metadata": {
        "id": "mJaVGmZuPDWR"
      },
      "outputs": [],
      "source": [
        "from os import path\n",
        "import numpy as np\n",
        "import matplotlib.pyplot as plt\n",
        "import random\n",
        "import csv\n",
        "\n",
        "from google.colab import files\n",
        "\n",
        "random.seed(1); np.random.seed(1)\n",
        "\n",
        "def GiveMeDatabase(tmean, inum, tnum, correlation, fname):\n",
        "  t = []\n",
        "  prev = []\n",
        "\n",
        "  with open(fname, \"w\") as f:\n",
        "    writer = csv.writer(f)\n",
        "\n",
        "    for i in range(tnum):\n",
        "\n",
        "      tsize = np.random.poisson(tmean)\n",
        "      t.append(tsize)  # For check\n",
        "\n",
        "      if i == 0:\n",
        "        while True:\n",
        "          curr = ([random.randint(1, inum) for _ in range(tsize)])\n",
        "          if len(set(curr)) == tsize:\n",
        "            break\n",
        "        prev = curr\n",
        "\n",
        "      else:\n",
        "        # Exponentially distributed random variable\n",
        "        # => (1 / lambda) = mean\n",
        "        # Set mean = correlation (from Apriori paper)\n",
        "        # => lambda = (1 / correlation)\n",
        "        fraction_prev = random.expovariate(1 / correlation)\n",
        "\n",
        "        # Get the size by multiplying fraction_prev with tsize, not len(prev)\n",
        "        # Use tsize because we are considering how many elements of prev to be considered as common item \"based on the current tsize\"\n",
        "        size_sampled_prev = int(fraction_prev * tsize)\n",
        "\n",
        "        while True:\n",
        "          # Sampling from previous itemsets\n",
        "          sampled_prev = random.sample(prev, min(size_sampled_prev, len(prev)))\n",
        "\n",
        "          # Sampling remaining items\n",
        "          if tsize - len(sampled_prev) < 0:\n",
        "            sampled_prev = random.sample(sampled_prev, tsize)\n",
        "          else:\n",
        "            sampled_prev.extend([random.randint(1, inum) for _ in range(tsize - len(sampled_prev))])\n",
        "\n",
        "          if len(set(sampled_prev)) == tsize:\n",
        "            break\n",
        "\n",
        "        prev = sampled_prev\n",
        "\n",
        "      writer.writerow(prev)\n",
        "    files.download(fname)\n",
        "\n",
        "  # Check transaction of which elements has the same value\n",
        "  # with open(f\"T{tmean}.N{int(inum)}.D{int(tnum/1000)}K.Corr.{int(correlation*10)}.csv\", \"r\") as f:\n",
        "  #   transactions = f.readlines()\n",
        "  #   for transaction in transactions:\n",
        "  #     transaction = transaction.strip().split(\",\")\n",
        "  #     # print(transaction)\n",
        "  #     for i in range(len(transaction)):\n",
        "  #       for j in range(i + 1, len(transaction)):\n",
        "  #         if transaction[i] == transaction[j]:\n",
        "  #           print(\"transaction has multiple same items: \" + transaction[i] + \" and \" + transaction[j])"
      ]
    },
    {
      "cell_type": "code",
      "execution_count": null,
      "metadata": {
        "id": "VYb2vfyWr5Xd"
      },
      "outputs": [],
      "source": [
        "def nameHelper(num):\n",
        "  if num >= 1000:\n",
        "    return str(num//1000) + \"K\"\n",
        "  else:\n",
        "    return str(num)"
      ]
    },
    {
      "cell_type": "markdown",
      "metadata": {
        "id": "zT6vogfHsutc"
      },
      "source": [
        "주석 없애고 필요한 부분 사용하시면 됩니다   \n",
        "(주석 해제: ctrl + k + u, 주석: ctrl + k + c)"
      ]
    },
    {
      "cell_type": "markdown",
      "metadata": {
        "id": "hiPLWRUJqgSZ"
      },
      "source": [
        "<h3> Generate multiple datasets"
      ]
    },
    {
      "cell_type": "code",
      "execution_count": null,
      "metadata": {
        "colab": {
          "base_uri": "https://localhost:8080/",
          "height": 17
        },
        "id": "W1QEIg-FyPXN",
        "outputId": "ff21c209-d9bf-48ac-f289-0e999cb512cb"
      },
      "outputs": [
        {
          "data": {
            "application/javascript": "\n    async function download(id, filename, size) {\n      if (!google.colab.kernel.accessAllowed) {\n        return;\n      }\n      const div = document.createElement('div');\n      const label = document.createElement('label');\n      label.textContent = `Downloading \"${filename}\": `;\n      div.appendChild(label);\n      const progress = document.createElement('progress');\n      progress.max = size;\n      div.appendChild(progress);\n      document.body.appendChild(div);\n\n      const buffers = [];\n      let downloaded = 0;\n\n      const channel = await google.colab.kernel.comms.open(id);\n      // Send a message to notify the kernel that we're ready.\n      channel.send({})\n\n      for await (const message of channel.messages) {\n        // Send a message to notify the kernel that we're ready.\n        channel.send({})\n        if (message.buffers) {\n          for (const buffer of message.buffers) {\n            buffers.push(buffer);\n            downloaded += buffer.byteLength;\n            progress.value = downloaded;\n          }\n        }\n      }\n      const blob = new Blob(buffers, {type: 'application/binary'});\n      const a = document.createElement('a');\n      a.href = window.URL.createObjectURL(blob);\n      a.download = filename;\n      div.appendChild(a);\n      a.click();\n      div.remove();\n    }\n  ",
            "text/plain": [
              "<IPython.core.display.Javascript object>"
            ]
          },
          "metadata": {},
          "output_type": "display_data"
        },
        {
          "data": {
            "application/javascript": "download(\"download_452b0871-53e2-43cf-86b2-fb24c44e382b\", \"T2_N100_D10K_Corr5.csv\", 65520)",
            "text/plain": [
              "<IPython.core.display.Javascript object>"
            ]
          },
          "metadata": {},
          "output_type": "display_data"
        },
        {
          "data": {
            "application/javascript": "\n    async function download(id, filename, size) {\n      if (!google.colab.kernel.accessAllowed) {\n        return;\n      }\n      const div = document.createElement('div');\n      const label = document.createElement('label');\n      label.textContent = `Downloading \"${filename}\": `;\n      div.appendChild(label);\n      const progress = document.createElement('progress');\n      progress.max = size;\n      div.appendChild(progress);\n      document.body.appendChild(div);\n\n      const buffers = [];\n      let downloaded = 0;\n\n      const channel = await google.colab.kernel.comms.open(id);\n      // Send a message to notify the kernel that we're ready.\n      channel.send({})\n\n      for await (const message of channel.messages) {\n        // Send a message to notify the kernel that we're ready.\n        channel.send({})\n        if (message.buffers) {\n          for (const buffer of message.buffers) {\n            buffers.push(buffer);\n            downloaded += buffer.byteLength;\n            progress.value = downloaded;\n          }\n        }\n      }\n      const blob = new Blob(buffers, {type: 'application/binary'});\n      const a = document.createElement('a');\n      a.href = window.URL.createObjectURL(blob);\n      a.download = filename;\n      div.appendChild(a);\n      a.click();\n      div.remove();\n    }\n  ",
            "text/plain": [
              "<IPython.core.display.Javascript object>"
            ]
          },
          "metadata": {},
          "output_type": "display_data"
        },
        {
          "data": {
            "application/javascript": "download(\"download_c7d892bb-800d-4724-9a21-2e98a501ae9b\", \"T5_N100_D10K_Corr5.csv\", 147300)",
            "text/plain": [
              "<IPython.core.display.Javascript object>"
            ]
          },
          "metadata": {},
          "output_type": "display_data"
        },
        {
          "data": {
            "application/javascript": "\n    async function download(id, filename, size) {\n      if (!google.colab.kernel.accessAllowed) {\n        return;\n      }\n      const div = document.createElement('div');\n      const label = document.createElement('label');\n      label.textContent = `Downloading \"${filename}\": `;\n      div.appendChild(label);\n      const progress = document.createElement('progress');\n      progress.max = size;\n      div.appendChild(progress);\n      document.body.appendChild(div);\n\n      const buffers = [];\n      let downloaded = 0;\n\n      const channel = await google.colab.kernel.comms.open(id);\n      // Send a message to notify the kernel that we're ready.\n      channel.send({})\n\n      for await (const message of channel.messages) {\n        // Send a message to notify the kernel that we're ready.\n        channel.send({})\n        if (message.buffers) {\n          for (const buffer of message.buffers) {\n            buffers.push(buffer);\n            downloaded += buffer.byteLength;\n            progress.value = downloaded;\n          }\n        }\n      }\n      const blob = new Blob(buffers, {type: 'application/binary'});\n      const a = document.createElement('a');\n      a.href = window.URL.createObjectURL(blob);\n      a.download = filename;\n      div.appendChild(a);\n      a.click();\n      div.remove();\n    }\n  ",
            "text/plain": [
              "<IPython.core.display.Javascript object>"
            ]
          },
          "metadata": {},
          "output_type": "display_data"
        },
        {
          "data": {
            "application/javascript": "download(\"download_96371c4d-384c-4b02-8b18-f7c9dcdb4fe9\", \"T10_N100_D10K_Corr5.csv\", 294362)",
            "text/plain": [
              "<IPython.core.display.Javascript object>"
            ]
          },
          "metadata": {},
          "output_type": "display_data"
        },
        {
          "data": {
            "application/javascript": "\n    async function download(id, filename, size) {\n      if (!google.colab.kernel.accessAllowed) {\n        return;\n      }\n      const div = document.createElement('div');\n      const label = document.createElement('label');\n      label.textContent = `Downloading \"${filename}\": `;\n      div.appendChild(label);\n      const progress = document.createElement('progress');\n      progress.max = size;\n      div.appendChild(progress);\n      document.body.appendChild(div);\n\n      const buffers = [];\n      let downloaded = 0;\n\n      const channel = await google.colab.kernel.comms.open(id);\n      // Send a message to notify the kernel that we're ready.\n      channel.send({})\n\n      for await (const message of channel.messages) {\n        // Send a message to notify the kernel that we're ready.\n        channel.send({})\n        if (message.buffers) {\n          for (const buffer of message.buffers) {\n            buffers.push(buffer);\n            downloaded += buffer.byteLength;\n            progress.value = downloaded;\n          }\n        }\n      }\n      const blob = new Blob(buffers, {type: 'application/binary'});\n      const a = document.createElement('a');\n      a.href = window.URL.createObjectURL(blob);\n      a.download = filename;\n      div.appendChild(a);\n      a.click();\n      div.remove();\n    }\n  ",
            "text/plain": [
              "<IPython.core.display.Javascript object>"
            ]
          },
          "metadata": {},
          "output_type": "display_data"
        },
        {
          "data": {
            "application/javascript": "download(\"download_ff076e5f-5108-45b2-9b81-0db6510adc81\", \"T20_N100_D10K_Corr5.csv\", 587377)",
            "text/plain": [
              "<IPython.core.display.Javascript object>"
            ]
          },
          "metadata": {},
          "output_type": "display_data"
        },
        {
          "data": {
            "application/javascript": "\n    async function download(id, filename, size) {\n      if (!google.colab.kernel.accessAllowed) {\n        return;\n      }\n      const div = document.createElement('div');\n      const label = document.createElement('label');\n      label.textContent = `Downloading \"${filename}\": `;\n      div.appendChild(label);\n      const progress = document.createElement('progress');\n      progress.max = size;\n      div.appendChild(progress);\n      document.body.appendChild(div);\n\n      const buffers = [];\n      let downloaded = 0;\n\n      const channel = await google.colab.kernel.comms.open(id);\n      // Send a message to notify the kernel that we're ready.\n      channel.send({})\n\n      for await (const message of channel.messages) {\n        // Send a message to notify the kernel that we're ready.\n        channel.send({})\n        if (message.buffers) {\n          for (const buffer of message.buffers) {\n            buffers.push(buffer);\n            downloaded += buffer.byteLength;\n            progress.value = downloaded;\n          }\n        }\n      }\n      const blob = new Blob(buffers, {type: 'application/binary'});\n      const a = document.createElement('a');\n      a.href = window.URL.createObjectURL(blob);\n      a.download = filename;\n      div.appendChild(a);\n      a.click();\n      div.remove();\n    }\n  ",
            "text/plain": [
              "<IPython.core.display.Javascript object>"
            ]
          },
          "metadata": {},
          "output_type": "display_data"
        },
        {
          "data": {
            "application/javascript": "download(\"download_5e2b8a81-ad66-4167-b8c2-416a3c4cb93a\", \"T10_N1K_D10K_Corr5.csv\", 392135)",
            "text/plain": [
              "<IPython.core.display.Javascript object>"
            ]
          },
          "metadata": {},
          "output_type": "display_data"
        },
        {
          "data": {
            "application/javascript": "\n    async function download(id, filename, size) {\n      if (!google.colab.kernel.accessAllowed) {\n        return;\n      }\n      const div = document.createElement('div');\n      const label = document.createElement('label');\n      label.textContent = `Downloading \"${filename}\": `;\n      div.appendChild(label);\n      const progress = document.createElement('progress');\n      progress.max = size;\n      div.appendChild(progress);\n      document.body.appendChild(div);\n\n      const buffers = [];\n      let downloaded = 0;\n\n      const channel = await google.colab.kernel.comms.open(id);\n      // Send a message to notify the kernel that we're ready.\n      channel.send({})\n\n      for await (const message of channel.messages) {\n        // Send a message to notify the kernel that we're ready.\n        channel.send({})\n        if (message.buffers) {\n          for (const buffer of message.buffers) {\n            buffers.push(buffer);\n            downloaded += buffer.byteLength;\n            progress.value = downloaded;\n          }\n        }\n      }\n      const blob = new Blob(buffers, {type: 'application/binary'});\n      const a = document.createElement('a');\n      a.href = window.URL.createObjectURL(blob);\n      a.download = filename;\n      div.appendChild(a);\n      a.click();\n      div.remove();\n    }\n  ",
            "text/plain": [
              "<IPython.core.display.Javascript object>"
            ]
          },
          "metadata": {},
          "output_type": "display_data"
        },
        {
          "data": {
            "application/javascript": "download(\"download_da3a4e33-fc10-4741-a32f-e6f97982ffc2\", \"T10_N100_D1K_Corr5.csv\", 24517)",
            "text/plain": [
              "<IPython.core.display.Javascript object>"
            ]
          },
          "metadata": {},
          "output_type": "display_data"
        },
        {
          "data": {
            "application/javascript": "\n    async function download(id, filename, size) {\n      if (!google.colab.kernel.accessAllowed) {\n        return;\n      }\n      const div = document.createElement('div');\n      const label = document.createElement('label');\n      label.textContent = `Downloading \"${filename}\": `;\n      div.appendChild(label);\n      const progress = document.createElement('progress');\n      progress.max = size;\n      div.appendChild(progress);\n      document.body.appendChild(div);\n\n      const buffers = [];\n      let downloaded = 0;\n\n      const channel = await google.colab.kernel.comms.open(id);\n      // Send a message to notify the kernel that we're ready.\n      channel.send({})\n\n      for await (const message of channel.messages) {\n        // Send a message to notify the kernel that we're ready.\n        channel.send({})\n        if (message.buffers) {\n          for (const buffer of message.buffers) {\n            buffers.push(buffer);\n            downloaded += buffer.byteLength;\n            progress.value = downloaded;\n          }\n        }\n      }\n      const blob = new Blob(buffers, {type: 'application/binary'});\n      const a = document.createElement('a');\n      a.href = window.URL.createObjectURL(blob);\n      a.download = filename;\n      div.appendChild(a);\n      a.click();\n      div.remove();\n    }\n  ",
            "text/plain": [
              "<IPython.core.display.Javascript object>"
            ]
          },
          "metadata": {},
          "output_type": "display_data"
        },
        {
          "data": {
            "application/javascript": "download(\"download_38f6290f-453f-461d-91f2-f1b6852e7590\", \"T10_N100_D100K_Corr5.csv\", 3016867)",
            "text/plain": [
              "<IPython.core.display.Javascript object>"
            ]
          },
          "metadata": {},
          "output_type": "display_data"
        }
      ],
      "source": [
        "with_T = [2, 5, 10, 15, 20]\n",
        "with_N = [100]\n",
        "with_D = [1000, 10000, 20000, 50000, 100000]\n",
        "correlation = 0.5\n",
        "\n",
        "dataset = [with_T, with_N, with_D]\n",
        "\n",
        "for i in range(3):\n",
        "  for j in range(len(dataset[i])):\n",
        "    if i == 0:\n",
        "      tmean = dataset[i][j]\n",
        "      inum = 100\n",
        "      tnum = 10000\n",
        "    elif i == 1:\n",
        "      tmean = 10\n",
        "      inum = dataset[i][j]\n",
        "      tnum = 10000\n",
        "    else:\n",
        "      tmean = 10\n",
        "      inum = 100\n",
        "      tnum = dataset[i][j]\n",
        "\n",
        "    fname = f\"T{nameHelper(tmean)}_N{nameHelper(inum)}_D{nameHelper(tnum)}_Corr{int(correlation*10)}.csv\"\n",
        "\n",
        "    if path.exists(fname) == False:\n",
        "      GiveMeDatabase(tmean, inum, tnum, correlation, fname)"
      ]
    },
    {
      "cell_type": "markdown",
      "metadata": {
        "id": "1wdd_DMvqmFg"
      },
      "source": [
        "<h3> Generate single dataset"
      ]
    },
    {
      "cell_type": "code",
      "execution_count": null,
      "metadata": {
        "colab": {
          "base_uri": "https://localhost:8080/",
          "height": 17
        },
        "id": "n30piXmI2oUf",
        "outputId": "8519b4ce-fed6-4c61-b057-93e35c52e731"
      },
      "outputs": [
        {
          "data": {
            "application/javascript": "\n    async function download(id, filename, size) {\n      if (!google.colab.kernel.accessAllowed) {\n        return;\n      }\n      const div = document.createElement('div');\n      const label = document.createElement('label');\n      label.textContent = `Downloading \"${filename}\": `;\n      div.appendChild(label);\n      const progress = document.createElement('progress');\n      progress.max = size;\n      div.appendChild(progress);\n      document.body.appendChild(div);\n\n      const buffers = [];\n      let downloaded = 0;\n\n      const channel = await google.colab.kernel.comms.open(id);\n      // Send a message to notify the kernel that we're ready.\n      channel.send({})\n\n      for await (const message of channel.messages) {\n        // Send a message to notify the kernel that we're ready.\n        channel.send({})\n        if (message.buffers) {\n          for (const buffer of message.buffers) {\n            buffers.push(buffer);\n            downloaded += buffer.byteLength;\n            progress.value = downloaded;\n          }\n        }\n      }\n      const blob = new Blob(buffers, {type: 'application/binary'});\n      const a = document.createElement('a');\n      a.href = window.URL.createObjectURL(blob);\n      a.download = filename;\n      div.appendChild(a);\n      a.click();\n      div.remove();\n    }\n  ",
            "text/plain": [
              "<IPython.core.display.Javascript object>"
            ]
          },
          "metadata": {},
          "output_type": "display_data"
        },
        {
          "data": {
            "application/javascript": "download(\"download_f6f281c3-84f7-456e-87a1-06d79d5da45f\", \"T10.N300.D100K.Corr.7.csv\", 3734636)",
            "text/plain": [
              "<IPython.core.display.Javascript object>"
            ]
          },
          "metadata": {},
          "output_type": "display_data"
        }
      ],
      "source": [
        "# tmean = 10\n",
        "# inum = 300\n",
        "# tnum = 100000\n",
        "# correlation = 0.75\n",
        "\n",
        "# fname = f\"T{nameHelper(tmean)}_N{nameHelper(inum)}_D{nameHelper(tnum)}_Corr{int(correlation*10)}.csv\"\n",
        "\n",
        "# GiveMeDatabase(tmean, inum, tnum, correlation, fname)\n"
      ]
    }
  ],
  "metadata": {
    "colab": {
      "provenance": []
    },
    "kernelspec": {
      "display_name": "Python 3",
      "name": "python3"
    },
    "language_info": {
      "name": "python"
    }
  },
  "nbformat": 4,
  "nbformat_minor": 0
}
